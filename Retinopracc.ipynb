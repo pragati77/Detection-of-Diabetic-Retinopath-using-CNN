{
  "nbformat": 4,
  "nbformat_minor": 0,
  "metadata": {
    "colab": {
      "name": "Retinopracc.ipynb",
      "provenance": [],
      "collapsed_sections": [],
      "authorship_tag": "ABX9TyPrxlPdCWetaHpP4YA+f3Wj",
      "include_colab_link": true
    },
    "kernelspec": {
      "name": "python3",
      "display_name": "Python 3"
    },
    "accelerator": "GPU"
  },
  "cells": [
    {
      "cell_type": "markdown",
      "metadata": {
        "id": "view-in-github",
        "colab_type": "text"
      },
      "source": [
        "<a href=\"https://colab.research.google.com/github/pragati77/Detection-of-Diabetic-Retinopath-using-CNN/blob/master/Retinopracc.ipynb\" target=\"_parent\"><img src=\"https://colab.research.google.com/assets/colab-badge.svg\" alt=\"Open In Colab\"/></a>"
      ]
    },
    {
      "cell_type": "code",
      "metadata": {
        "id": "ZdE63SpRPp4g",
        "colab_type": "code",
        "outputId": "486ec201-490d-4e76-ecdd-94a6a4d13ed8",
        "colab": {
          "base_uri": "https://localhost:8080/",
          "height": 81
        }
      },
      "source": [
        "# here,we are importing all the libraries \n",
        "\n",
        "import numpy as np # linear algebra\n",
        "import pandas as pd # data processing, CSV file I/O (e.g. pd.read_csv)\n",
        "import os\n",
        "import random\n",
        "import sys\n",
        "import cv2\n",
        "import matplotlib\n",
        "from subprocess import check_output\n",
        "from keras.models import Model\n",
        "from keras.models import Sequential\n",
        "from keras.layers import Dense, Conv2D,GlobalAveragePooling2D, MaxPooling2D, Dropout, Flatten, Input\n",
        "from keras.preprocessing import image\n",
        "from keras.preprocessing.image import ImageDataGenerator, array_to_img, img_to_array, load_img\n",
        "from sklearn.model_selection import train_test_split\n",
        "from keras.utils import to_categorical\n",
        "from keras.applications.inception_v3 import InceptionV3\n",
        "from keras import optimizers"
      ],
      "execution_count": 1,
      "outputs": [
        {
          "output_type": "stream",
          "text": [
            "Using TensorFlow backend.\n"
          ],
          "name": "stderr"
        },
        {
          "output_type": "display_data",
          "data": {
            "text/html": [
              "<p style=\"color: red;\">\n",
              "The default version of TensorFlow in Colab will soon switch to TensorFlow 2.x.<br>\n",
              "We recommend you <a href=\"https://www.tensorflow.org/guide/migrate\" target=\"_blank\">upgrade</a> now \n",
              "or ensure your notebook will continue to use TensorFlow 1.x via the <code>%tensorflow_version 1.x</code> magic:\n",
              "<a href=\"https://colab.research.google.com/notebooks/tensorflow_version.ipynb\" target=\"_blank\">more info</a>.</p>\n"
            ],
            "text/plain": [
              "<IPython.core.display.HTML object>"
            ]
          },
          "metadata": {
            "tags": []
          }
        }
      ]
    },
    {
      "cell_type": "code",
      "metadata": {
        "id": "IeBmxKj9auSp",
        "colab_type": "code",
        "colab": {}
      },
      "source": [
        "def classes_to_int(label):\n",
        "    # label = classes.index(dir)\n",
        "    label = label.strip()\n",
        "    if label == \"No DR\":  return 0\n",
        "    if label == \"Mild\":  return 1\n",
        "    if label == \"Moderate\":  return 2\n",
        "    if label == \"Severe\":  return 3\n",
        "    if label == \"Proliferative DR\":  return 4\n",
        "    print(\"Invalid Label\", label)\n",
        "    return 5\n",
        "\n",
        "def int_to_classes(i):\n",
        "    if i == 0: return \"No DR\"\n",
        "    elif i == 1: return \"Mild\"\n",
        "    elif i == 2: return \"Moderate\"\n",
        "    elif i == 3: return \"Severe\"\n",
        "    elif i == 4: return \"Proliferative DR\"\n",
        "    print(\"Invalid class \", i)\n",
        "    return \"Invalid Class\""
      ],
      "execution_count": 0,
      "outputs": []
    },
    {
      "cell_type": "code",
      "metadata": {
        "id": "K0IVpUxOa7Nl",
        "colab_type": "code",
        "colab": {
          "base_uri": "https://localhost:8080/",
          "height": 52
        },
        "outputId": "c4cd8027-7983-4896-f410-852f8be02ba4"
      },
      "source": [
        "NUM_CLASSES = 5\n",
        "# we need images of same size so we convert them into the size\n",
        "WIDTH = 256\n",
        "HEIGHT = 256\n",
        "DEPTH = 3\n",
        "\n",
        "inputShape = (HEIGHT, WIDTH, DEPTH)\n",
        "print(\"inputshape:\")\n",
        "print(inputShape)\n",
        "# initialize number of epochs to train for, initial learning rate and batch size\n",
        "EPOCHS = 10\n",
        "INIT_LR = 1e-3\n",
        "BS = 32\n",
        "#global variables\n",
        "ImageNameDataHash = {} #contains image names of the fundus such as right and left #curly brackets are used to indicate \"dictionary\" in python\n",
        "uniquePatientIDList = [] #square bracket indicates that it is LIST."
      ],
      "execution_count": 3,
      "outputs": [
        {
          "output_type": "stream",
          "text": [
            "inputshape:\n",
            "(256, 256, 3)\n"
          ],
          "name": "stdout"
        }
      ]
    },
    {
      "cell_type": "code",
      "metadata": {
        "id": "19Vtj0QLhF28",
        "colab_type": "code",
        "colab": {
          "base_uri": "https://localhost:8080/",
          "height": 35
        },
        "outputId": "d14c9a2b-d25d-41d4-bbbd-2bce63613258"
      },
      "source": [
        "from google.colab import drive\n",
        "drive.mount('/content/drive/')\n"
      ],
      "execution_count": 5,
      "outputs": [
        {
          "output_type": "stream",
          "text": [
            "Drive already mounted at /content/drive/; to attempt to forcibly remount, call drive.mount(\"/content/drive/\", force_remount=True).\n"
          ],
          "name": "stdout"
        }
      ]
    },
    {
      "cell_type": "code",
      "metadata": {
        "id": "tb3LecFZhZCg",
        "colab_type": "code",
        "colab": {
          "base_uri": "https://localhost:8080/",
          "height": 35
        },
        "outputId": "cc45eb41-df31-48c0-d5bc-f85eb8d86299"
      },
      "source": [
        " cd /content/drive/My Drive"
      ],
      "execution_count": 6,
      "outputs": [
        {
          "output_type": "stream",
          "text": [
            "/content/drive/My Drive\n"
          ],
          "name": "stdout"
        }
      ]
    },
    {
      "cell_type": "code",
      "metadata": {
        "id": "QlrJqhFaha3y",
        "colab_type": "code",
        "colab": {
          "base_uri": "https://localhost:8080/",
          "height": 35
        },
        "outputId": "b1de1332-77b6-423f-c5d7-23ca82eed944"
      },
      "source": [
        "cd Retino"
      ],
      "execution_count": 7,
      "outputs": [
        {
          "output_type": "stream",
          "text": [
            "/content/drive/My Drive/Retino\n"
          ],
          "name": "stdout"
        }
      ]
    },
    {
      "cell_type": "code",
      "metadata": {
        "id": "lKM81xC4hdB0",
        "colab_type": "code",
        "colab": {
          "base_uri": "https://localhost:8080/",
          "height": 35
        },
        "outputId": "709b4840-1218-4262-f46b-62217b6afd8e"
      },
      "source": [
        "ls"
      ],
      "execution_count": 8,
      "outputs": [
        {
          "output_type": "stream",
          "text": [
            "\u001b[0m\u001b[01;34mresized_train\u001b[0m/  trainLabels.csv\n"
          ],
          "name": "stdout"
        }
      ]
    },
    {
      "cell_type": "code",
      "metadata": {
        "id": "HVNJwO01dKS1",
        "colab_type": "code",
        "colab": {}
      },
      "source": [
        "def readTrainData(trainDir):\n",
        "    global ImageNameDataHash #This is the dictionary that we derfined before.\n",
        "    # loop over the input images\n",
        "    images = os.listdir(trainDir) #trainDir are the images that are used to train the model\n",
        "    print(\"Number of files in \" + trainDir + \" is \" + str(len(images)))#this only prints the number of images i.e 2849\n",
        "    #print(images)\n",
        "    for imageFileName in images: #imageFilename is just a variable\n",
        "        if (imageFileName == \"trainLabels.csv\"): #comparing with the lable names in csv file\n",
        "            continue\n",
        "        imageFullPath = os.path.join( trainDir, imageFileName) #it comibines 2 paths, ex :./resized_train/1269_left.jpeg\n",
        "        #print(imageFullPath)\n",
        "        img = load_img(imageFullPath) #img contains PIL image instance.PIL is the Python Imaging Library which provides the python interpreter with image editing capabilities(helpful for image preprocessing). \n",
        "        #print(img)\n",
        "\n",
        "        arr = img_to_array(img) #Converts a PIL Image instance to a Numpy array.\n",
        "        #print(arr)\n",
        "        dim1 = arr.shape[0] #initial size of the images which are random ( initial length 683,768,618....)\n",
        "        dim2 = arr.shape[1] #( initial Breadth 683,768,618....)\n",
        "        dim3 = arr.shape[2] #(depth)\n",
        "        #print(dim1)\n",
        "        #print(dim2)\n",
        "        #print(dim3)\n",
        "        if (dim1 < HEIGHT or dim2 < WIDTH or dim3 < DEPTH):\n",
        "            print(\"Error image dimensions are less than expected \"+str(arr.shape))\n",
        "\n",
        "        arr = cv2.resize(arr, (HEIGHT,WIDTH)) #Numpy array with shape (HEIGHT, WIDTH,3) we RESIZE our fundus images here\n",
        "        #print(arr.shape) # 256,256,3\n",
        "        dim1 = arr.shape[0] #(new length is 256)\n",
        "        dim2 = arr.shape[1] #(new width is 256)\n",
        "        dim3 = arr.shape[2]\n",
        "        #print(dim1)\n",
        "        if (dim1 != HEIGHT or dim2 != WIDTH or dim3 != DEPTH):\n",
        "            print(\"Error after resize, image dimensions are not equal to expected \"+str(arr.shape))\n",
        "        #print(type(arr)) #the type of arr is numpy array.\n",
        "        # scale the raw pixel intensities to the range [0, 1] \n",
        "        arr = np.array(arr, dtype=\"float\") / 255.0 #here, we are converting into grey-scale.\n",
        "        #print(arr)\n",
        "        imageFileName = imageFileName.replace('.jpeg','') #string.replace(old, new) Therefore, we are removing .jpeg extension.(12460_right)\n",
        "        #print(imageFileName)\n",
        "        ImageNameDataHash[str(imageFileName)] = np.array(arr) #this is a dictionary of imagename(key) mapped to image which is in array format(value).\n",
        "        #print( ImageNameDataHash)\n",
        "    return\n",
        "\n",
        "    "
      ],
      "execution_count": 0,
      "outputs": []
    },
    {
      "cell_type": "code",
      "metadata": {
        "id": "hQhra-UFDLQ9",
        "colab_type": "code",
        "colab": {
          "base_uri": "https://localhost:8080/",
          "height": 69
        },
        "outputId": "723d86cd-c7f7-4c70-e703-e0f26b564698"
      },
      "source": [
        "from datetime import datetime\n",
        "print(\"Loading images at...\"+ str(datetime.now()))\n",
        "sys.stdout.flush()\n",
        "readTrainData(\"./resized_train\")\n",
        "print(\"Loaded \" + str(len(ImageNameDataHash)) + \" images at...\"+ str(datetime.now())) "
      ],
      "execution_count": 48,
      "outputs": [
        {
          "output_type": "stream",
          "text": [
            "Loading images at...2020-02-25 16:36:16.998385\n",
            "Number of files in ./resized_train is 2849\n",
            "Loaded 2849 images at...2020-02-25 16:49:35.399748\n"
          ],
          "name": "stdout"
        }
      ]
    },
    {
      "cell_type": "code",
      "metadata": {
        "id": "Fc2HL4B8ToFm",
        "colab_type": "code",
        "colab": {}
      },
      "source": [
        "def readTrainCsv():\n",
        "  raw_df = pd.read_csv('./trainLabels.csv', sep=',')\n",
        "  #print(raw_df) #it prints the image and level from the csv file\n",
        "  row_count=raw_df.shape[0] #gives number of row count row_count=35126 \n",
        "  col_count=raw_df.shape[1] #gives number of col count col count=2\n",
        "  print(\"row_count=\"+str(row_count)+\" col count=\"+str(col_count))\n",
        "  raw_df[\"PatientID\"] = '' #creating another column which is patientID \n",
        "  header_list = list(raw_df.columns) #stores the column names\n",
        "  print(header_list) # ['image', 'level', 'PatientID']\n",
        "  # double check if level of left and right are same or not\n",
        "  ImageLevelHash = {} #dictionary\n",
        "  patientIDList = [] #List\n",
        " # print(raw_df.iterrows) #0    10_left   0\n",
        "  for index, row in raw_df.iterrows():\n",
        "      # 0 is image, 1 is level, 2 is PatientID, 3 is data\n",
        "      key = row[0] + ''\n",
        "      #print(key) #--> 44268_right,44268_left...........\n",
        "      patientID = row[0] + '' #same as key....but...........\n",
        "      #print(patientID)\n",
        "      patientID = patientID.replace('_right','')#............we are removing right and left too !!\n",
        "      patientID = patientID.replace('_left','')#..........patientID will only contain 25802.....\n",
        "      #print(\"Adding patient ID\"+ patientID) # it will print as follows \"Adding patient ID25802\"\n",
        "      raw_df.at[index, 'PatientID'] = patientID #under the patientID column head, we put all the patientIDs\n",
        "      patientIDList.append(patientID) #appending patientID to list\n",
        "      ImageLevelHash[key] = str(row[1]) # creates a dictionary where, key is image name (13_left) and value is level(0,1,2,3,4,5) Ex '15_right': '2'\n",
        "      #print(ImageLevelHash)\n",
        "\n",
        "  global uniquePatientIDList #issa list again\n",
        "  uniquePatientIDList = sorted(set(patientIDList)) #list contains unique patientIDs in a sorted manner.\n",
        "  count=0;\n",
        "  for patientID in uniquePatientIDList:\n",
        "      left_level = ImageLevelHash[str(patientID+'_left')] #records the DR level in left eye\n",
        "      right_level = ImageLevelHash[str(patientID+'_right')] #records the DR level in right eye\n",
        "      #right_exists = str(patientID+'_right') in raw_df.values\n",
        "      if (left_level != right_level): #if the DR level in both eyes aren't the same.......\n",
        "          count = count+1\n",
        "          #print(\"Warning for patient=\"+ str(patientID) + \" left_level=\" + left_level+ \" right_level=\" +right_level)\n",
        "  print(\"count of images with both left and right eye level not matching=\"+str(count)) # 2240\n",
        "  print(\"number of unique patients=\"+str(len(uniquePatientIDList))) # 17563\n",
        "  return raw_df #raw_df contains images,levels and patientIDs\n",
        " \n"
      ],
      "execution_count": 0,
      "outputs": []
    },
    {
      "cell_type": "code",
      "metadata": {
        "id": "Y6TICN-5rmZ8",
        "colab_type": "code",
        "outputId": "34805c60-0757-4b04-f27a-91b34d4327d0",
        "colab": {
          "base_uri": "https://localhost:8080/",
          "height": 104
        }
      },
      "source": [
        "random.seed(10) # :( \n",
        "print(\"Reading trainLabels.csv...\")\n",
        "df = readTrainCsv() #df contains whatever is in raw_df\n"
      ],
      "execution_count": 69,
      "outputs": [
        {
          "output_type": "stream",
          "text": [
            "Reading trainLabels.csv...\n",
            "row_count=35126 col count=2\n",
            "['image', 'level', 'PatientID']\n",
            "count of images with both left and right eye level not matching=2240\n",
            "number of unique patients=17563\n"
          ],
          "name": "stdout"
        }
      ]
    },
    {
      "cell_type": "code",
      "metadata": {
        "id": "G_QIkdxbsDtv",
        "colab_type": "code",
        "outputId": "7da32a79-2a53-49ac-9782-dff7b078b030",
        "colab": {
          "base_uri": "https://localhost:8080/",
          "height": 191
        }
      },
      "source": [
        "for i in range(0,10):\n",
        "    s = df.loc[df.index[i], 'PatientID'] # get patient id of patients...\"s\" contains the patient ID now\n",
        "    print(str(i) + \" patient's patientID=\"+str(s))"
      ],
      "execution_count": 70,
      "outputs": [
        {
          "output_type": "stream",
          "text": [
            "0 patient's patientID=10\n",
            "1 patient's patientID=10\n",
            "2 patient's patientID=13\n",
            "3 patient's patientID=13\n",
            "4 patient's patientID=15\n",
            "5 patient's patientID=15\n",
            "6 patient's patientID=16\n",
            "7 patient's patientID=16\n",
            "8 patient's patientID=17\n",
            "9 patient's patientID=17\n"
          ],
          "name": "stdout"
        }
      ]
    },
    {
      "cell_type": "code",
      "metadata": {
        "id": "sE6gO4Oxs-fk",
        "colab_type": "code",
        "outputId": "13ef35dd-d899-4299-cc9e-273048c3b107",
        "colab": {
          "base_uri": "https://localhost:8080/",
          "height": 35
        }
      },
      "source": [
        "keepImages =  list(ImageNameDataHash.keys()) #ImageNameDataHash.keys() contains '12127_left', '12129_left', '1212_left', '1212_right'....(image names)\n",
        "#print(ImageNameDataHash.keys())\n",
        "df = df[df['image'].isin(keepImages)] # isin() method helps in selecting rows with having a particular(or Multiple) value in a particular column.\n",
        "#so...it(df) contains all the image names.\n",
        "print(len(df)) # 2849 (basically the number of fundus images)"
      ],
      "execution_count": 72,
      "outputs": [
        {
          "output_type": "stream",
          "text": [
            "2849\n"
          ],
          "name": "stdout"
        }
      ]
    },
    {
      "cell_type": "code",
      "metadata": {
        "id": "BGRIM_HhtCmj",
        "colab_type": "code",
        "colab": {}
      },
      "source": [
        "#convert hash to dataframe\n",
        "imageNameArr = [] #LIST\n",
        "dataArr = [] #also LIST\n",
        "for index, row in df.iterrows():\n",
        "    key = str(row[0]) #--> key contains the image names (13201_right,13206_lef,13206_right,13209_left.....)\n",
        "    #print(key)\n",
        "    if key in ImageNameDataHash: #if key exists in ImageNameDataHash\n",
        "        imageNameArr.append(key) #here, we append the key(image names) into the list. **This is the key**\n",
        "        dataArr.append(np.array(ImageNameDataHash[key])) # in this list, we append the (image array) into the list **This is the value** :)\n"
      ],
      "execution_count": 0,
      "outputs": []
    },
    {
      "cell_type": "code",
      "metadata": {
        "id": "TjpbOrfvtSI8",
        "colab_type": "code",
        "outputId": "a2ada43d-12f3-43eb-b652-c7529d312e8a",
        "colab": {
          "base_uri": "https://localhost:8080/",
          "height": 52
        }
      },
      "source": [
        "df2 = pd.DataFrame({'image': imageNameArr, 'data': dataArr}) #storing the image names in \"image\" and the image array in \"data\"\n",
        "df2_header_list = list(df2.columns) # image and data forms 2 columns in dataframe\n",
        "print(df2_header_list) # ['image', 'data']\n",
        "print(len(df2)) # 2849\n",
        "#print(df2.describe(include='all'))\n",
        "#print(df2.sample(3)) # 3 rows x 2 columns\n",
        "if len(df) != len(df2): #we make sure that all the images are added to df2 aswell.\n",
        "    print(\"Error length of df != df2\")"
      ],
      "execution_count": 75,
      "outputs": [
        {
          "output_type": "stream",
          "text": [
            "['image', 'data']\n",
            "2849\n"
          ],
          "name": "stdout"
        }
      ]
    },
    {
      "cell_type": "code",
      "metadata": {
        "id": "6FZA_nXYu94N",
        "colab_type": "code",
        "outputId": "dbf8bd1a-7e8f-410a-ce10-f5a440fd17ca",
        "colab": {
          "base_uri": "https://localhost:8080/",
          "height": 173
        }
      },
      "source": [
        "print(\"for df2 :\")\n",
        "print(df2.dtypes)\n",
        "print(\"for df :\")\n",
        "print(df.dtypes)"
      ],
      "execution_count": 78,
      "outputs": [
        {
          "output_type": "stream",
          "text": [
            "for df2 :\n",
            "image    object\n",
            "data     object\n",
            "dtype: object\n",
            "for df :\n",
            "image        object\n",
            "level         int64\n",
            "PatientID    object\n",
            "dtype: object\n"
          ],
          "name": "stdout"
        }
      ]
    },
    {
      "cell_type": "code",
      "metadata": {
        "id": "-iVJOVC5wNa4",
        "colab_type": "code",
        "outputId": "620031ce-39d8-421b-b773-bdfc6c2eb601",
        "colab": {
          "base_uri": "https://localhost:8080/",
          "height": 156
        }
      },
      "source": [
        "df = pd.merge(df2, df, left_on='image', right_on='image', how='outer') #here, we merge both the data frames.\n",
        "df_header_list = list(df.columns) \n",
        "print(df_header_list) # ['image', 'data', level', 'PatientID']\n",
        "print(len(df)) #2849\n",
        "print(df.sample(3))"
      ],
      "execution_count": 79,
      "outputs": [
        {
          "output_type": "stream",
          "text": [
            "['image', 'data', 'level', 'PatientID']\n",
            "2849\n",
            "            image  ... PatientID\n",
            "1229  11209_right  ...     11209\n",
            "1374   11392_left  ...     11392\n",
            "794    10660_left  ...     10660\n",
            "\n",
            "[3 rows x 4 columns]\n"
          ],
          "name": "stdout"
        }
      ]
    },
    {
      "cell_type": "code",
      "metadata": {
        "id": "DKZkG7kDxSVz",
        "colab_type": "code",
        "outputId": "db170340-ee89-4309-f707-9e4bd9a1506f",
        "colab": {
          "base_uri": "https://localhost:8080/",
          "height": 1000
        }
      },
      "source": [
        "sample0 = df.loc[df.index[0], 'data'] # \"data\" contains image in array format\n",
        "print(sample0) # array image (2D array)\n",
        "#print(type(sample0)) # <class 'numpy.ndarray'>\n",
        "print(\"sample shape is\")\n",
        "print(sample0.shape) # 256,256,3 \n",
        "from matplotlib import pyplot as plt\n",
        "plt.imshow(sample0, interpolation='nearest')\n",
        "plt.show()\n",
        "print(\"Sample Image\")"
      ],
      "execution_count": 82,
      "outputs": [
        {
          "output_type": "stream",
          "text": [
            "[[[0. 0. 0.]\n",
            "  [0. 0. 0.]\n",
            "  [0. 0. 0.]\n",
            "  ...\n",
            "  [0. 0. 0.]\n",
            "  [0. 0. 0.]\n",
            "  [0. 0. 0.]]\n",
            "\n",
            " [[0. 0. 0.]\n",
            "  [0. 0. 0.]\n",
            "  [0. 0. 0.]\n",
            "  ...\n",
            "  [0. 0. 0.]\n",
            "  [0. 0. 0.]\n",
            "  [0. 0. 0.]]\n",
            "\n",
            " [[0. 0. 0.]\n",
            "  [0. 0. 0.]\n",
            "  [0. 0. 0.]\n",
            "  ...\n",
            "  [0. 0. 0.]\n",
            "  [0. 0. 0.]\n",
            "  [0. 0. 0.]]\n",
            "\n",
            " ...\n",
            "\n",
            " [[0. 0. 0.]\n",
            "  [0. 0. 0.]\n",
            "  [0. 0. 0.]\n",
            "  ...\n",
            "  [0. 0. 0.]\n",
            "  [0. 0. 0.]\n",
            "  [0. 0. 0.]]\n",
            "\n",
            " [[0. 0. 0.]\n",
            "  [0. 0. 0.]\n",
            "  [0. 0. 0.]\n",
            "  ...\n",
            "  [0. 0. 0.]\n",
            "  [0. 0. 0.]\n",
            "  [0. 0. 0.]]\n",
            "\n",
            " [[0. 0. 0.]\n",
            "  [0. 0. 0.]\n",
            "  [0. 0. 0.]\n",
            "  ...\n",
            "  [0. 0. 0.]\n",
            "  [0. 0. 0.]\n",
            "  [0. 0. 0.]]]\n",
            "sample shape is\n",
            "(256, 256, 3)\n"
          ],
          "name": "stdout"
        },
        {
          "output_type": "display_data",
          "data": {
            "image/png": "[encoded data removed]",
            "text/plain": [
              "<Figure size 432x288 with 1 Axes>"
            ]
          },
          "metadata": {
            "tags": []
          }
        },
        {
          "output_type": "stream",
          "text": [
            "Sample Image\n"
          ],
          "name": "stdout"
        }
      ]
    },
    {
      "cell_type": "code",
      "metadata": {
        "id": "9uaTY-4kxTH6",
        "colab_type": "code",
        "colab": {
          "base_uri": "https://localhost:8080/",
          "height": 139
        },
        "outputId": "65ce1f27-f74a-45de-ef30-fc55059db6a7"
      },
      "source": [
        "X = df['data'] # t h e          a r r a y             i m a g e s \n",
        "Y = df['level'] # DR levels (0,1,2,3,4,5)\n",
        "Y = np.array(Y) #converting Y into array?\n",
        "Y =  to_categorical(Y, num_classes=NUM_CLASSES) #binaryyy\n",
        "#print(Y)"
      ],
      "execution_count": 83,
      "outputs": [
        {
          "output_type": "stream",
          "text": [
            "[[1. 0. 0. 0. 0.]\n",
            " [1. 0. 0. 0. 0.]\n",
            " [1. 0. 0. 0. 0.]\n",
            " ...\n",
            " [1. 0. 0. 0. 0.]\n",
            " [1. 0. 0. 0. 0.]\n",
            " [1. 0. 0. 0. 0.]]\n"
          ],
          "name": "stdout"
        }
      ]
    },
    {
      "cell_type": "code",
      "metadata": {
        "id": "OrJxATNAs221",
        "colab_type": "code",
        "colab": {
          "base_uri": "https://localhost:8080/",
          "height": 69
        },
        "outputId": "b6fd40c7-a604-4a1e-80c0-35818ad11be0"
      },
      "source": [
        "print(\"Partition data into 75:25...\")\n",
        "sys.stdout.flush()\n",
        "print(\"Unique patients in dataframe df=\" + str(df.PatientID.nunique())) # 1425\n",
        "unique_ids = df.PatientID.unique()\n",
        "print('unique_ids ='+ str(len(unique_ids))) #1425 same thing as above"
      ],
      "execution_count": 86,
      "outputs": [
        {
          "output_type": "stream",
          "text": [
            "Partition data into 75:25...\n",
            "Unique patients in dataframe df=1425\n",
            "unique_ids =1425\n"
          ],
          "name": "stdout"
        }
      ]
    },
    {
      "cell_type": "code",
      "metadata": {
        "id": "4sN-9_I3t7RE",
        "colab_type": "code",
        "colab": {
          "base_uri": "https://localhost:8080/",
          "height": 35
        },
        "outputId": "6a991604-b45f-43ef-cd8b-ccd2de359848"
      },
      "source": [
        "train_ids, valid_ids = train_test_split(unique_ids, test_size = 0.25, random_state = 10) #stratify = rr_df['level']) #training is 0.75 \n",
        "trainid_list = train_ids.tolist() #converting train_ids to list and storing in trainid_list(contains patient's unique IDs)\n",
        "print('trainid_list shape=', str(len(trainid_list))) #1068\n",
        "#print(trainid_list) "
      ],
      "execution_count": 89,
      "outputs": [
        {
          "output_type": "stream",
          "text": [
            "trainid_list shape= 1068\n"
          ],
          "name": "stdout"
        }
      ]
    },
    {
      "cell_type": "code",
      "metadata": {
        "id": "-SonUUWPFsaa",
        "colab_type": "code",
        "outputId": "3296bd63-5f6e-4356-a1ff-ae57af9645aa",
        "colab": {
          "base_uri": "https://localhost:8080/",
          "height": 295
        }
      },
      "source": [
        "traindf = df[df.PatientID.isin(trainid_list)] #traindf has 75% of images\n",
        "valSet = df[~df.PatientID.isin(trainid_list)] # should be unseen data (25% images)\n",
        "\n",
        "print(traindf.head())\n",
        "print(valSet.head())"
      ],
      "execution_count": 90,
      "outputs": [
        {
          "output_type": "stream",
          "text": [
            "       image  ... PatientID\n",
            "0    10_left  ...        10\n",
            "1   10_right  ...        10\n",
            "4   102_left  ...       102\n",
            "5  102_right  ...       102\n",
            "6   104_left  ...       104\n",
            "\n",
            "[5 rows x 4 columns]\n",
            "        image  ... PatientID\n",
            "2    100_left  ...       100\n",
            "3   100_right  ...       100\n",
            "14   115_left  ...       115\n",
            "15  115_right  ...       115\n",
            "22   125_left  ...       125\n",
            "\n",
            "[5 rows x 4 columns]\n"
          ],
          "name": "stdout"
        }
      ]
    },
    {
      "cell_type": "code",
      "metadata": {
        "id": "9mQzONCpFtKd",
        "colab_type": "code",
        "outputId": "266ccc75-31d7-4e80-a90d-9d83bca5ba97",
        "colab": {
          "base_uri": "https://localhost:8080/",
          "height": 295
        }
      },
      "source": [
        "traindf = traindf.reset_index(drop=True) #we make sure that the index is proper\n",
        "valSet = valSet.reset_index(drop=True)\n",
        "\n",
        "print(traindf.head())\n",
        "print(valSet.head())"
      ],
      "execution_count": 91,
      "outputs": [
        {
          "output_type": "stream",
          "text": [
            "       image  ... PatientID\n",
            "0    10_left  ...        10\n",
            "1   10_right  ...        10\n",
            "2   102_left  ...       102\n",
            "3  102_right  ...       102\n",
            "4   104_left  ...       104\n",
            "\n",
            "[5 rows x 4 columns]\n",
            "       image  ... PatientID\n",
            "0   100_left  ...       100\n",
            "1  100_right  ...       100\n",
            "2   115_left  ...       115\n",
            "3  115_right  ...       115\n",
            "4   125_left  ...       125\n",
            "\n",
            "[5 rows x 4 columns]\n"
          ],
          "name": "stdout"
        }
      ]
    },
    {
      "cell_type": "code",
      "metadata": {
        "id": "VVsh-qE_GA2f",
        "colab_type": "code",
        "colab": {}
      },
      "source": [
        "trainX = traindf['data'] #array images\n",
        "trainY = traindf['level'] #DR level\n",
        "\n",
        "valX = valSet['data'] #array images\n",
        "valY = valSet['level'] #DR level"
      ],
      "execution_count": 0,
      "outputs": []
    }
  ]
}